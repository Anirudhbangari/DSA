{
 "cells": [
  {
   "cell_type": "code",
   "execution_count": 2,
   "id": "290d300b-77f7-4179-827f-8bfb32eb0bf8",
   "metadata": {},
   "outputs": [
    {
     "name": "stdout",
     "output_type": "stream",
     "text": [
      "Array [1, 2, 4, 2, 5, 9]  contain duplicate : True\n"
     ]
    }
   ],
   "source": [
    "#1. Given an array, check if it contains any duplicates or not.\n",
    "#arr = [1, 2, 4, 2, 5, 9]\n",
    " \n",
    "def dup(arr):\n",
    "    j = []\n",
    "    for i in arr:\n",
    "        if i in j:\n",
    "            return True\n",
    "        else:\n",
    "            j.append(i)\n",
    "    return False\n",
    "arr = [1, 2, 4, 2, 5, 9]\n",
    "print(f\"Array {arr}  contain duplicate : {dup(arr)}\") "
   ]
  },
  {
   "cell_type": "code",
   "execution_count": 4,
   "id": "d05d9e04-d32f-4704-be8c-bfdf3d03b0b9",
   "metadata": {},
   "outputs": [
    {
     "name": "stdout",
     "output_type": "stream",
     "text": [
      "[4, 5, 6, 7, 1, 2, 3]\n"
     ]
    }
   ],
   "source": [
    "#2. Given an array and an integer k, rotate the array to the right by k steps.\n",
    "#arr = [1, 2, 3, 4, 5, 6, 7] k = 3\n",
    "\n",
    "def rot(arr,k):\n",
    "    i = arr[k:len(arr)]\n",
    "    arr = arr[0:k]\n",
    "    return i+arr\n",
    "    \n",
    "arr = [1, 2, 3, 4, 5, 6, 7]\n",
    "k = 3\n",
    "h = rot(arr,k)\n",
    "print(h)"
   ]
  },
  {
   "cell_type": "code",
   "execution_count": 10,
   "id": "2e6e7015-6627-46af-a47f-e945e70a4242",
   "metadata": {},
   "outputs": [
    {
     "name": "stdout",
     "output_type": "stream",
     "text": [
      "[12, 9, 7, 5, 4, 2]\n"
     ]
    }
   ],
   "source": [
    "#3. Reverse the given array in-place, means without using any extra data structure.\n",
    "#arr = [2, 4, 5, 7, 9, 12]\n",
    "\n",
    "def rev(arr):\n",
    "    i = 0\n",
    "    j = len(arr)-1\n",
    "    \n",
    "    while i<j:\n",
    "        arr[i],arr[j] = arr[j],arr[i]\n",
    "        i += 1\n",
    "        j -= 1\n",
    "        \n",
    "    return arr\n",
    "    \n",
    "arr = [2, 4, 5, 7, 9, 12]\n",
    "print(rev(arr))"
   ]
  },
  {
   "cell_type": "code",
   "execution_count": 11,
   "id": "249ba3ba-5c14-47ca-b450-787ced16f037",
   "metadata": {},
   "outputs": [
    {
     "name": "stdout",
     "output_type": "stream",
     "text": [
      "Max element in array [10, 5, 20, 8, 15] = 20\n"
     ]
    }
   ],
   "source": [
    "#4. Given an array of integers, find the maximum element in an array\n",
    "#arr = [10, 5, 20, 8, 15]\n",
    "\n",
    "def max(arr):\n",
    "    count = 0\n",
    "    for i in arr:\n",
    "        if i >count:\n",
    "            count = i\n",
    "    return count\n",
    "\n",
    "arr = [10, 5, 20, 8, 15]\n",
    "\n",
    "print(f\"Max element in array {arr} = {max(arr)}\")"
   ]
  },
  {
   "cell_type": "code",
   "execution_count": 27,
   "id": "bf21eb21-16a8-42f0-a830-2219cf784fe9",
   "metadata": {},
   "outputs": [
    {
     "name": "stdout",
     "output_type": "stream",
     "text": [
      "[1, 2, 3, 4, 5]\n"
     ]
    }
   ],
   "source": [
    "#5. Given a sorted array, remove the duplicate element without using any extra data structure.\n",
    "#arr = [1, 1, 2, 2, 2, 3, 3, 4, 4, 4, 5, 5]\n",
    "arr = [1, 1, 2, 2, 2, 3, 3, 4, 4, 4, 5, 5]\n",
    "def remdup(arr):\n",
    "    k = 1\n",
    "    for i in range(1,len(arr)):\n",
    "        if arr[i] == arr[i-1]:\n",
    "            pass\n",
    "        else:\n",
    "            arr[k] = arr[i]\n",
    "            k += 1\n",
    "    return arr[0:k]\n",
    "           \n",
    "arr = [1, 1, 2, 2, 2, 3, 3, 4, 4, 4, 5, 5]    \n",
    "print(remdup(arr))"
   ]
  },
  {
   "cell_type": "code",
   "execution_count": null,
   "id": "66590220-201a-4e8a-890a-a829837523ea",
   "metadata": {},
   "outputs": [],
   "source": [
    "\n"
   ]
  },
  {
   "cell_type": "code",
   "execution_count": null,
   "id": "3dc354f3-ddd8-45a1-9c23-83a9cbccb77e",
   "metadata": {},
   "outputs": [],
   "source": []
  }
 ],
 "metadata": {
  "kernelspec": {
   "display_name": "Python 3 (ipykernel)",
   "language": "python",
   "name": "python3"
  },
  "language_info": {
   "codemirror_mode": {
    "name": "ipython",
    "version": 3
   },
   "file_extension": ".py",
   "mimetype": "text/x-python",
   "name": "python",
   "nbconvert_exporter": "python",
   "pygments_lexer": "ipython3",
   "version": "3.10.8"
  }
 },
 "nbformat": 4,
 "nbformat_minor": 5
}

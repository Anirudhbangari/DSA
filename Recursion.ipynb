{
 "cells": [
  {
   "cell_type": "code",
   "execution_count": 9,
   "id": "b2ddf927-e4c6-4a9a-bf6e-882c161695ab",
   "metadata": {},
   "outputs": [
    {
     "name": "stdout",
     "output_type": "stream",
     "text": [
      "Move disk 1 from A to C\n",
      "Move disk 2 from A to B\n",
      "Move disk 1 from C to B\n",
      "Move disk 3 from A to C\n",
      "Move disk 1 from B to A\n",
      "Move disk 2 from B to C\n",
      "Move disk 1 from A to C\n",
      "Move disk 4 from A to B\n",
      "Move disk 1 from C to B\n",
      "Move disk 2 from C to A\n",
      "Move disk 1 from B to A\n",
      "Move disk 3 from C to B\n",
      "Move disk 1 from A to C\n",
      "Move disk 2 from A to B\n",
      "Move disk 1 from C to B\n"
     ]
    }
   ],
   "source": [
    "#Q.1 Can you explain the logic and working of the Tower of Hanoi algorithm by writing a Java program?\n",
    "#How does the recursion work, and how are the movements of disks between rods accomplished?\n",
    "'''The Tower of Hanoi is a classic mathematical puzzle where we have three rods and a stack of n disks. The objective is to move the entire stack from one rod to another, following these rules:\n",
    "\n",
    "1.)Only one disk can be moved at a time.\n",
    "2.)Each move involves taking the uppermost disk from one stack and placing it on top of another stack.\n",
    "3.)A disk can only be moved if it is the uppermost disk on a stack.\n",
    "4.)No disk may be placed on top of a smaller disk.'''\n",
    "def tower_of_Hanoi(start,end,auxilary,n):\n",
    "    if n == 1:\n",
    "        print(f\"Move disk 1 from {start} to {end}\")\n",
    "        return\n",
    "    tower_of_Hanoi(start,auxilary,end,n-1)\n",
    "    print(f\"Move disk {n} from {start} to {end}\")\n",
    "    tower_of_Hanoi(auxilary,end,start,n-1)\n",
    "\n",
    "n = 4  # Number of disks\n",
    "tower_of_Hanoi( 'A','B','C',n)\n"
   ]
  },
  {
   "cell_type": "code",
   "execution_count": 19,
   "id": "6f64a12a-6c72-4b60-b3c2-e3d1eecec2c1",
   "metadata": {},
   "outputs": [
    {
     "name": "stdout",
     "output_type": "stream",
     "text": [
      "3\n"
     ]
    }
   ],
   "source": [
    "#Q.2 Given two strings word1 and word2, return the minimum number of operations required to convert word1 to word2.\n",
    "'''Example 1:\n",
    "Input: word1 = \"horse\", word2 = \"ros\"\n",
    "Output: 3\n",
    "Explanation:\n",
    "horse -> rorse (replace 'h' with 'r')\n",
    "rorse -> rose (remove 'r')\n",
    "rose -> ros (remove 'e')'''\n",
    "def min_operation(str1,str2):\n",
    "    count = 0\n",
    "    f = list(str1)\n",
    "    h = list(str2)\n",
    "    for i in range(len(f)):\n",
    "        if len(h) == i:\n",
    "                break\n",
    "        else:\n",
    "            if f[i] == h[i]:\n",
    "                pass\n",
    "            else:\n",
    "                count += 1\n",
    "    count = len(f)-(i+1)+count\n",
    "    return count\n",
    "h = min_operation(\"horse\",\"ros\")\n",
    "print(h)\n",
    "                "
   ]
  },
  {
   "cell_type": "code",
   "execution_count": 20,
   "id": "fda06060-420a-4e46-a5f0-906b78b03f80",
   "metadata": {},
   "outputs": [
    {
     "data": {
      "text/plain": [
       "22"
      ]
     },
     "execution_count": 20,
     "metadata": {},
     "output_type": "execute_result"
    }
   ],
   "source": [
    "#Q.3 Print the max value of the array [ 13, 1, -3, 22, 5].\n",
    "g = [ 13, 1, -3, 22, 5]\n",
    "j = max(g)\n",
    "j"
   ]
  },
  {
   "cell_type": "code",
   "execution_count": 21,
   "id": "25548b3c-5b9f-469c-939a-396ca4992f7c",
   "metadata": {},
   "outputs": [
    {
     "name": "stdout",
     "output_type": "stream",
     "text": [
      "The sum of the values in the array is: 120\n"
     ]
    }
   ],
   "source": [
    "#Q.4 Find the sum of the values of the array [92, 23, 15, -20, 10].\n",
    "array = [92, 23, 15, -20, 10]\n",
    "sum_of_values = sum(array)\n",
    "print(\"The sum of the values in the array is:\", sum_of_values)\n"
   ]
  },
  {
   "cell_type": "code",
   "execution_count": 35,
   "id": "91b401df-29ec-468e-ad84-cd5d62a56a7c",
   "metadata": {},
   "outputs": [
    {
     "name": "stdin",
     "output_type": "stream",
     "text": [
      "Enter a value 153\n"
     ]
    },
    {
     "name": "stdout",
     "output_type": "stream",
     "text": [
      "Yes ,153 is Armstrong number\n"
     ]
    }
   ],
   "source": [
    "'''Q.5 Given a number n. Print if it is an armstrong number or not.An armstrong number is a number if the sum\n",
    "of every digit in that number raised to the power of total digits in that number is equal to the number.\n",
    "Example : 153 = 1^3 + 5^3 + 3^3 = 1 + 125 + 27 = 153 hence 153 is an armstrong number. (Easy)\n",
    "Input1 : 153\n",
    "Output1 : Yes\n",
    "Input 2 : 134\n",
    "Output2 : No'''\n",
    "def arm(x):\n",
    "    f = str(x)\n",
    "    r1 = len(f)\n",
    "    count = 0\n",
    "    for i in range(r1):\n",
    "        h = x%10\n",
    "        x = (x-h)//10\n",
    "        u = h**r1\n",
    "        count = u+count\n",
    "    return count\n",
    "h = int(input(\"Enter a value\"))\n",
    "g = arm(153)\n",
    "if g == h:\n",
    "    print(f\"Yes ,{h} is Armstrong number\")\n",
    "else:\n",
    "     print(f\"No,{h} is not Armstrong number\")\n",
    "    "
   ]
  }
 ],
 "metadata": {
  "kernelspec": {
   "display_name": "Python 3 (ipykernel)",
   "language": "python",
   "name": "python3"
  },
  "language_info": {
   "codemirror_mode": {
    "name": "ipython",
    "version": 3
   },
   "file_extension": ".py",
   "mimetype": "text/x-python",
   "name": "python",
   "nbconvert_exporter": "python",
   "pygments_lexer": "ipython3",
   "version": "3.10.8"
  }
 },
 "nbformat": 4,
 "nbformat_minor": 5
}
